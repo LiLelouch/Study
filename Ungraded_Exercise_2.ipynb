{
 "cells": [
  {
   "cell_type": "markdown",
   "metadata": {},
   "source": [
    "1. Ask user to enter a string and check that it is made up only alphabets:"
   ]
  },
  {
   "cell_type": "code",
   "execution_count": null,
   "metadata": {},
   "outputs": [],
   "source": [
    "def check_alphabet():\n",
    "    user_input = input(\"Enter a string: \")\n",
    "    if user_input.isalpha():\n",
    "        print(\"The string is made up only of alphabets.\")\n",
    "    else:\n",
    "        print(\"The string contains non-alphabet characters.\")\n",
    "\n",
    "check_alphabet()"
   ]
  },
  {
   "cell_type": "markdown",
   "metadata": {},
   "source": [
    "2. Now, make sure that the string is made up of both alphabets and numbers:\n",
    "\n",
    "TRY using isalnum() function and then entering only alhpabets in the string and see what happens."
   ]
  },
  {
   "cell_type": "code",
   "execution_count": null,
   "metadata": {},
   "outputs": [],
   "source": [
    "def check_alphanumeric():\n",
    "    user_input = input(\"Enter a string: \")\n",
    "    if user_input.isalnum() and any(c.isalpha() for c in user_input) and any(c.isdigit() for c in user_input):\n",
    "        print(\"The string contains both alphabets and numbers.\")\n",
    "    else:\n",
    "        print(\"The string does not contain both alphabets and numbers.\")\n",
    "\n",
    "check_alphanumeric()"
   ]
  },
  {
   "cell_type": "markdown",
   "metadata": {},
   "source": "3. Now, make sure that the string is made up of both alphabets and at least one number:"
  },
  {
   "cell_type": "code",
   "execution_count": null,
   "metadata": {},
   "outputs": [],
   "source": [
    "def check_alphabet_and_number():\n",
    "    user_input = input(\"Enter a string: \")\n",
    "    if any(c.isalpha() for c in user_input) and any(c.isdigit() for c in user_input):\n",
    "        print(\"The string contains both alphabets and at least one number.\")\n",
    "    else:\n",
    "        print(\"The string does not contain both alphabets and at least one number.\")\n",
    "\n",
    "check_alphabet_and_number()"
   ]
  },
  {
   "cell_type": "markdown",
   "metadata": {},
   "source": [
    "4. Now, make sure that the string is made up of both alphabets, at least one number, and at least one special character:"
   ]
  },
  {
   "cell_type": "code",
   "execution_count": null,
   "metadata": {},
   "outputs": [],
   "source": [
    "def check_complex_string():\n",
    "    user_input = input(\"Enter a string: \")\n",
    "    has_alpha = any(c.isalpha() for c in user_input)\n",
    "    has_digit = any(c.isdigit() for c in user_input)\n",
    "    has_special = any(not c.isalnum() for c in user_input)\n",
    "\n",
    "    if has_alpha and has_digit and has_special:\n",
    "        print(\"The string contains alphabets, at least one number, and at least one special character.\")\n",
    "    else:\n",
    "        print(\"The string does not contain alphabets, at least one number, and at least one special character.\")\n",
    "\n",
    "check_complex_string()"
   ]
  },
  {
   "cell_type": "markdown",
   "metadata": {},
   "source": [
    "5. Now, modify the above code so that if the user enters an invalid string, the program should ask the user to enter another string again, and keep asking until a valid string has been entered."
   ]
  },
  {
   "cell_type": "code",
   "execution_count": null,
   "metadata": {},
   "outputs": [],
   "source": [
    "def check_complex_string():\n",
    "    while True:\n",
    "        user_input = input(\"Enter a string: \")\n",
    "        has_alpha = any(c.isalpha() for c in user_input)\n",
    "        has_digit = any(c.isdigit() for c in user_input)\n",
    "        has_special = any(not c.isalnum() for c in user_input)\n",
    "\n",
    "        if has_alpha and has_digit and has_special:\n",
    "            print(\"The string contains alphabets, at least one number, and at least one special character.\")\n",
    "            break\n",
    "        else:\n",
    "            print(\"Invalid string. Please try again.\")\n",
    "\n",
    "check_complex_string()"
   ]
  }
 ],
 "metadata": {
  "kernelspec": {
   "display_name": "Python 3",
   "language": "python",
   "name": "python3"
  },
  "language_info": {
   "codemirror_mode": {
    "name": "ipython",
    "version": 3
   },
   "file_extension": ".py",
   "mimetype": "text/x-python",
   "name": "python",
   "nbconvert_exporter": "python",
   "pygments_lexer": "ipython3",
   "version": "3.11.5"
  }
 },
 "nbformat": 4,
 "nbformat_minor": 2
}
